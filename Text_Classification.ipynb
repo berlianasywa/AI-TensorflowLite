{
  "nbformat": 4,
  "nbformat_minor": 0,
  "metadata": {
    "colab": {
      "name": "Custom Text Classification",
      "provenance": [],
      "collapsed_sections": []
    },
    "kernelspec": {
      "name": "python3",
      "display_name": "Python 3"
    },
    "language_info": {
      "name": "python"
    }
  },
  "cells": [
    {
      "cell_type": "markdown",
      "metadata": {
        "id": "yP4tf7X9C7AZ"
      },
      "source": [
        "## Custom Text Classification using TensorFlow Lite"
      ]
    },
    {
      "cell_type": "markdown",
      "metadata": {
        "id": "VE89zue0DDUr"
      },
      "source": [
        "#### **Install TF Lite Model Maker**\n",
        "Install the **TensorFlow Lite Model Maker** library. TF Lite Model Maker makes it easy to train models on custom dataset and reduces time to train by using Transfer Learning on pre-trained models."
      ]
    },
    {
      "cell_type": "code",
      "metadata": {
        "id": "V2V9KPznCzhl"
      },
      "source": [
        "!pip install -q tflite-model-maker"
      ],
      "execution_count": null,
      "outputs": []
    },
    {
      "cell_type": "markdown",
      "metadata": {
        "id": "uB-9fguiC5zl"
      },
      "source": [
        "#### **Install necessary libraries**"
      ]
    },
    {
      "cell_type": "code",
      "metadata": {
        "id": "2HThwXnnDhPO"
      },
      "source": [
        "import numpy as np\n",
        "from numpy.random import RandomState\n",
        "import pandas as pd\n",
        "import os\n",
        "\n",
        "from tflite_model_maker import model_spec\n",
        "from tflite_model_maker import text_classifier\n",
        "from tflite_model_maker.config import ExportFormat\n",
        "from tflite_model_maker.config import QuantizationConfig\n",
        "from tflite_model_maker.text_classifier import AverageWordVecSpec\n",
        "from tflite_model_maker.text_classifier import DataLoader\n",
        "\n",
        "import tensorflow as tf\n",
        "assert tf.__version__.startswith('2')\n",
        "tf.get_logger().setLevel('ERROR')"
      ],
      "execution_count": null,
      "outputs": []
    },
    {
      "cell_type": "markdown",
      "metadata": {
        "id": "3OGDMlrBDxSo"
      },
      "source": [
        "#### **Import dataset**\n",
        "Import the training and test dataset and read them as CSV files using the Pandas library."
      ]
    },
    {
      "cell_type": "code",
      "metadata": {
        "id": "Upb5e1P2D4jW"
      },
      "source": [
        "df_train = pd.read_csv('train.csv', error_bad_lines=False, engine=\"python\")\n",
        "\n",
        "df_test = pd.read_csv('test.csv', error_bad_lines=False, engine=\"python\")\n"
      ],
      "execution_count": null,
      "outputs": []
    },
    {
      "cell_type": "markdown",
      "metadata": {
        "id": "_pub7v2Lj65r"
      },
      "source": [
        "#### **View dataset**\n",
        "Check your dataset and see if it is properly imported or not."
      ]
    },
    {
      "cell_type": "code",
      "metadata": {
        "id": "_tNVxh5jkDpl"
      },
      "source": [
        "df_train.head()"
      ],
      "execution_count": null,
      "outputs": []
    },
    {
      "cell_type": "code",
      "metadata": {
        "id": "9l_aJyGskFiL"
      },
      "source": [
        "df_test.head()"
      ],
      "execution_count": null,
      "outputs": []
    },
    {
      "cell_type": "markdown",
      "metadata": {
        "id": "jm4oyK5YetF0"
      },
      "source": [
        "#### **Choose a model architecture**\n",
        "Choose any one model architecture of your choice and comment the rest. Each model architecture is different from the other and will yield different results. The MobileBERT model takes more time to train as its architecture is quite complex. However, feel free to play with different architectures until you find the best result."
      ]
    },
    {
      "cell_type": "code",
      "metadata": {
        "id": "MnCrRhoQWJEv"
      },
      "source": [
        "spec = model_spec.get('average_word_vec')\n",
        "# spec = model_spec.get('mobilebert_classifier')\n",
        "# spec = model_spec.get('bert_classifier')\n",
        "# spec = AverageWordVecSpec(wordvec_dim=32)\n"
      ],
      "execution_count": null,
      "outputs": []
    },
    {
      "cell_type": "markdown",
      "metadata": {
        "id": "847DmprYjQZr"
      },
      "source": [
        "#### **Customize the MobileBERT model hyperparameters**\n",
        "\n",
        "**Note:** Run this cell only if you have chosen the `MobileBERT Classifier` model architecture.\n",
        "\n",
        "The model parameters you can adjust are:\n",
        "\n",
        "* `seq_len`: Length of the sequence to feed into the model.\n",
        "* `initializer_range`: The standard deviation of the `truncated_normal_initializer` for initializing all weight matrices.\n",
        "* `trainable`: Boolean that specifies whether the pre-trained layer is trainable.\n",
        "\n",
        "The training pipeline parameters you can adjust are:\n",
        "\n",
        "* `model_dir`: The location of the model checkpoint files. If not set, a temporary directory will be used.\n",
        "* `dropout_rate`: The dropout rate.\n",
        "* `learning_rate`: The initial learning rate for the Adam optimizer.\n",
        "* `tpu`: TPU address to connect to.\n",
        "\n",
        "For instance, you can set the `seq_len=256` (default is 128). This allows the model to classify longer text."
      ]
    },
    {
      "cell_type": "code",
      "metadata": {
        "id": "q0ylC1lMjd6t"
      },
      "source": [
        "# spec.seq_len = 256"
      ],
      "execution_count": null,
      "outputs": []
    },
    {
      "cell_type": "markdown",
      "metadata": {
        "id": "HRAlvLqhWPPL"
      },
      "source": [
        "#### **Load training and test data**\n",
        "Load the training and test data CSV files to prepare the model training process. Make sure the `is_training` parameter for `test_data` is set to `False`."
      ]
    },
    {
      "cell_type": "code",
      "metadata": {
        "id": "3zwugywXWKuG"
      },
      "source": [
        "train_data = DataLoader.from_csv(\n",
        "      filename='train.csv',\n",
        "      text_column='sentence',\n",
        "      label_column='label',\n",
        "      model_spec=spec,\n",
        "      is_training=True)\n",
        "\n",
        "test_data = DataLoader.from_csv(\n",
        "      filename='test.csv',\n",
        "      text_column='sentence',\n",
        "      label_column='label',\n",
        "      model_spec=spec,\n",
        "      is_training=False)"
      ],
      "execution_count": null,
      "outputs": []
    },
    {
      "cell_type": "markdown",
      "metadata": {
        "id": "e8-BlNARWYrU"
      },
      "source": [
        "#### **Train model**\n",
        "Start the model training on the train dataset. Feel free to play around with different no. of epochs until you find the ideal epoch value that gives the best results."
      ]
    },
    {
      "cell_type": "code",
      "metadata": {
        "id": "_JoGdzz3WV5y"
      },
      "source": [
        "model = text_classifier.create(train_data, model_spec=spec, epochs=100)"
      ],
      "execution_count": null,
      "outputs": []
    },
    {
      "cell_type": "markdown",
      "metadata": {
        "id": "7VRHMc-Hi2nc"
      },
      "source": [
        "#### **Examine your model structure - Layers of the neural network**"
      ]
    },
    {
      "cell_type": "code",
      "metadata": {
        "id": "FM41cvx0i_Sf"
      },
      "source": [
        "model.summary()"
      ],
      "execution_count": null,
      "outputs": []
    },
    {
      "cell_type": "markdown",
      "metadata": {
        "id": "2pHO_F-NdxLD"
      },
      "source": [
        "#### **Evaluate the model**\n",
        "Evaluate the model accuracy on the test data and see for yourself if the model needs some tweakings such as increase in dataset or hyperparameter tuning in order to increase the accuracy."
      ]
    },
    {
      "cell_type": "code",
      "metadata": {
        "id": "D5sbFSsyDdvG"
      },
      "source": [
        "loss, acc = model.evaluate(test_data)"
      ],
      "execution_count": null,
      "outputs": []
    },
    {
      "cell_type": "markdown",
      "metadata": {
        "id": "JBOw2If1Wtr-"
      },
      "source": [
        "#### **Export TF Lite model**\n",
        "The final model is exported as a TF Lite model which can be downloaded and directly deployed on your Android app."
      ]
    },
    {
      "cell_type": "code",
      "metadata": {
        "id": "O63hzlr-WcPJ"
      },
      "source": [
        "model.export(export_dir='average_word_vec')"
      ],
      "execution_count": null,
      "outputs": []
    }
  ]
}